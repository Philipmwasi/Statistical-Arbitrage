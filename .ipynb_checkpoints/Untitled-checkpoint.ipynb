{
 "cells": [
  {
   "cell_type": "code",
   "execution_count": 1,
   "id": "1785d246",
   "metadata": {},
   "outputs": [],
   "source": [
    "# importing the necessary libraries\n",
    "import requests\n",
    "import pandas as pd\n",
    "import time\n",
    "from tqdm import tqdm # Progress bar for better visibility"
   ]
  },
  {
   "cell_type": "code",
   "execution_count": 15,
   "id": "97d40a38",
   "metadata": {},
   "outputs": [
    {
     "name": "stderr",
     "output_type": "stream",
     "text": [
      "\r",
      "Fetching Data:   0%|          | 0/30 [00:00<?, ?it/s]"
     ]
    },
    {
     "name": "stdout",
     "output_type": "stream",
     "text": [
      "\n",
      "Fetching data for ADA from Binance...\n"
     ]
    },
    {
     "name": "stderr",
     "output_type": "stream",
     "text": [
      "\r",
      "Fetching Data:   3%|▎         | 1/30 [00:36<17:40, 36.56s/it]"
     ]
    },
    {
     "name": "stdout",
     "output_type": "stream",
     "text": [
      "\n",
      "Fetching data for BCH from Binance...\n"
     ]
    },
    {
     "name": "stderr",
     "output_type": "stream",
     "text": [
      "\r",
      "Fetching Data:   7%|▋         | 2/30 [01:02<14:03, 30.11s/it]"
     ]
    },
    {
     "name": "stdout",
     "output_type": "stream",
     "text": [
      "\n",
      "Fetching data for BCN from HitBTC...\n"
     ]
    },
    {
     "name": "stderr",
     "output_type": "stream",
     "text": [
      "\r",
      "Fetching Data:  10%|█         | 3/30 [01:14<09:57, 22.12s/it]"
     ]
    },
    {
     "name": "stdout",
     "output_type": "stream",
     "text": [
      "\n",
      "Fetching data for BTC from Binance...\n"
     ]
    },
    {
     "name": "stderr",
     "output_type": "stream",
     "text": [
      "\r",
      "Fetching Data:  13%|█▎        | 4/30 [01:37<09:40, 22.34s/it]"
     ]
    },
    {
     "name": "stdout",
     "output_type": "stream",
     "text": [
      "\n",
      "Fetching data for CND from HitBTC...\n"
     ]
    },
    {
     "name": "stderr",
     "output_type": "stream",
     "text": [
      "\r",
      "Fetching Data:  17%|█▋        | 5/30 [01:51<08:02, 19.30s/it]"
     ]
    },
    {
     "name": "stdout",
     "output_type": "stream",
     "text": [
      "\n",
      "Fetching data for CVC from Binance...\n"
     ]
    },
    {
     "name": "stderr",
     "output_type": "stream",
     "text": [
      "\r",
      "Fetching Data:  20%|██        | 6/30 [02:13<08:04, 20.18s/it]"
     ]
    },
    {
     "name": "stdout",
     "output_type": "stream",
     "text": [
      "\n",
      "Fetching data for DASH from Binance...\n"
     ]
    },
    {
     "name": "stderr",
     "output_type": "stream",
     "text": [
      "\r",
      "Fetching Data:  23%|██▎       | 7/30 [02:37<08:14, 21.51s/it]"
     ]
    },
    {
     "name": "stdout",
     "output_type": "stream",
     "text": [
      "\n",
      "Fetching data for DATA from Binance...\n"
     ]
    },
    {
     "name": "stderr",
     "output_type": "stream",
     "text": [
      "\r",
      "Fetching Data:  27%|██▋       | 8/30 [02:51<06:57, 18.99s/it]"
     ]
    },
    {
     "name": "stdout",
     "output_type": "stream",
     "text": [
      "\n",
      "Fetching data for EOS from Binance...\n"
     ]
    },
    {
     "name": "stderr",
     "output_type": "stream",
     "text": [
      "\r",
      "Fetching Data:  30%|███       | 9/30 [03:14<07:08, 20.39s/it]"
     ]
    },
    {
     "name": "stdout",
     "output_type": "stream",
     "text": [
      "\n",
      "Fetching data for ETC from Binance...\n"
     ]
    },
    {
     "name": "stderr",
     "output_type": "stream",
     "text": [
      "\r",
      "Fetching Data:  33%|███▎      | 10/30 [03:42<07:37, 22.86s/it]"
     ]
    },
    {
     "name": "stdout",
     "output_type": "stream",
     "text": [
      "\n",
      "Fetching data for ETH from Binance...\n"
     ]
    },
    {
     "name": "stderr",
     "output_type": "stream",
     "text": [
      "\r",
      "Fetching Data:  37%|███▋      | 11/30 [04:01<06:48, 21.51s/it]"
     ]
    },
    {
     "name": "stdout",
     "output_type": "stream",
     "text": [
      "\n",
      "Fetching data for ETP from HitBTC...\n"
     ]
    },
    {
     "name": "stderr",
     "output_type": "stream",
     "text": [
      "\r",
      "Fetching Data:  40%|████      | 12/30 [04:09<05:14, 17.47s/it]"
     ]
    },
    {
     "name": "stdout",
     "output_type": "stream",
     "text": [
      "\n",
      "Fetching data for LTC from Binance...\n"
     ]
    },
    {
     "name": "stderr",
     "output_type": "stream",
     "text": [
      "\r",
      "Fetching Data:  43%|████▎     | 13/30 [04:33<05:28, 19.32s/it]"
     ]
    },
    {
     "name": "stdout",
     "output_type": "stream",
     "text": [
      "\n",
      "Fetching data for MANA from Binance...\n"
     ]
    },
    {
     "name": "stderr",
     "output_type": "stream",
     "text": [
      "\r",
      "Fetching Data:  47%|████▋     | 14/30 [04:57<05:34, 20.92s/it]"
     ]
    },
    {
     "name": "stdout",
     "output_type": "stream",
     "text": [
      "\n",
      "Fetching data for NEO from Binance...\n"
     ]
    },
    {
     "name": "stderr",
     "output_type": "stream",
     "text": [
      "\r",
      "Fetching Data:  50%|█████     | 15/30 [05:20<05:22, 21.52s/it]"
     ]
    },
    {
     "name": "stdout",
     "output_type": "stream",
     "text": [
      "\n",
      "Fetching data for NXT from HitBTC...\n"
     ]
    },
    {
     "name": "stderr",
     "output_type": "stream",
     "text": [
      "\r",
      "Fetching Data:  53%|█████▎    | 16/30 [05:29<04:05, 17.55s/it]"
     ]
    },
    {
     "name": "stdout",
     "output_type": "stream",
     "text": [
      "\n",
      "Fetching data for OMG from Binance...\n"
     ]
    },
    {
     "name": "stderr",
     "output_type": "stream",
     "text": [
      "\r",
      "Fetching Data:  57%|█████▋    | 17/30 [05:50<04:04, 18.84s/it]"
     ]
    },
    {
     "name": "stdout",
     "output_type": "stream",
     "text": [
      "\n",
      "Fetching data for QTUM from Binance...\n"
     ]
    },
    {
     "name": "stderr",
     "output_type": "stream",
     "text": [
      "\r",
      "Fetching Data:  60%|██████    | 18/30 [06:08<03:42, 18.58s/it]"
     ]
    },
    {
     "name": "stdout",
     "output_type": "stream",
     "text": [
      "\n",
      "Fetching data for RDD from Bittrex...\n"
     ]
    },
    {
     "name": "stderr",
     "output_type": "stream",
     "text": [
      "\r",
      "Fetching Data:  63%|██████▎   | 19/30 [06:18<02:53, 15.75s/it]"
     ]
    },
    {
     "name": "stdout",
     "output_type": "stream",
     "text": [
      "\n",
      "Fetching data for SNT from Binance...\n"
     ]
    },
    {
     "name": "stderr",
     "output_type": "stream",
     "text": [
      "\r",
      "Fetching Data:  67%|██████▋   | 20/30 [06:40<02:58, 17.86s/it]"
     ]
    },
    {
     "name": "stdout",
     "output_type": "stream",
     "text": [
      "\n",
      "Fetching data for TRX from Binance...\n"
     ]
    },
    {
     "name": "stderr",
     "output_type": "stream",
     "text": [
      "\r",
      "Fetching Data:  70%|███████   | 21/30 [07:04<02:57, 19.69s/it]"
     ]
    },
    {
     "name": "stdout",
     "output_type": "stream",
     "text": [
      "\n",
      "Fetching data for VIB from Binance...\n"
     ]
    },
    {
     "name": "stderr",
     "output_type": "stream",
     "text": [
      "\r",
      "Fetching Data:  73%|███████▎  | 22/30 [07:31<02:55, 21.95s/it]"
     ]
    },
    {
     "name": "stdout",
     "output_type": "stream",
     "text": [
      "\n",
      "Fetching data for WAVES from Binance...\n"
     ]
    },
    {
     "name": "stderr",
     "output_type": "stream",
     "text": [
      "\r",
      "Fetching Data:  77%|███████▋  | 23/30 [07:55<02:37, 22.44s/it]"
     ]
    },
    {
     "name": "stdout",
     "output_type": "stream",
     "text": [
      "\n",
      "Fetching data for XDN from HitBTC...\n"
     ]
    },
    {
     "name": "stderr",
     "output_type": "stream",
     "text": [
      "\r",
      "Fetching Data:  80%|████████  | 24/30 [08:07<01:55, 19.26s/it]"
     ]
    },
    {
     "name": "stdout",
     "output_type": "stream",
     "text": [
      "\n",
      "Fetching data for XEM from Binance...\n"
     ]
    },
    {
     "name": "stderr",
     "output_type": "stream",
     "text": [
      "\r",
      "Fetching Data:  83%|████████▎ | 25/30 [08:32<01:45, 21.13s/it]"
     ]
    },
    {
     "name": "stdout",
     "output_type": "stream",
     "text": [
      "\n",
      "Fetching data for XLM from Binance...\n"
     ]
    },
    {
     "name": "stderr",
     "output_type": "stream",
     "text": [
      "\r",
      "Fetching Data:  87%|████████▋ | 26/30 [08:54<01:24, 21.20s/it]"
     ]
    },
    {
     "name": "stdout",
     "output_type": "stream",
     "text": [
      "\n",
      "Fetching data for XMR from Binance...\n"
     ]
    },
    {
     "name": "stderr",
     "output_type": "stream",
     "text": [
      "\r",
      "Fetching Data:  90%|█████████ | 27/30 [09:03<00:52, 17.57s/it]"
     ]
    },
    {
     "name": "stdout",
     "output_type": "stream",
     "text": [
      "\n",
      "Fetching data for XRP from Binance...\n"
     ]
    },
    {
     "name": "stderr",
     "output_type": "stream",
     "text": [
      "\r",
      "Fetching Data:  93%|█████████▎| 28/30 [09:28<00:39, 19.86s/it]"
     ]
    },
    {
     "name": "stdout",
     "output_type": "stream",
     "text": [
      "\n",
      "Fetching data for XVG from Bittrex...\n"
     ]
    },
    {
     "name": "stderr",
     "output_type": "stream",
     "text": [
      "\r",
      "Fetching Data:  97%|█████████▋| 29/30 [09:37<00:16, 16.44s/it]"
     ]
    },
    {
     "name": "stdout",
     "output_type": "stream",
     "text": [
      "\n",
      "Fetching data for ZEC from Binance...\n"
     ]
    },
    {
     "name": "stderr",
     "output_type": "stream",
     "text": [
      "Fetching Data: 100%|██████████| 30/30 [10:00<00:00, 20.01s/it]\n"
     ]
    },
    {
     "name": "stdout",
     "output_type": "stream",
     "text": [
      "\n",
      "✅ Data collection complete! Saved as crypto_hourly_OHLCV.csv\n"
     ]
    }
   ],
   "source": [
    "# API Configuration\n",
    "API_URL = \"https://min-api.cryptocompare.com/data/v2/histohour\"\n",
    "API_KEY = \"65b8fa849b1a9747d0aee3f4e64cec45ae7ed8b7cff67e4dbe97ba3776dd787b\"  # If required, replace with your actual API key\n",
    "\n",
    "#  list of 40 cryptocurrencies and their most liquid exchanges\n",
    "coins_exchanges = {\n",
    "    \"ADA\": \"Binance\", \"BCH\": \"Binance\", \"BCN\": \"HitBTC\", \n",
    "    \"BTC\": \"Binance\", \"CND\": \"HitBTC\", \"CVC\": \"Binance\",\n",
    "    \"DASH\": \"Binance\", \"DATA\": \"Binance\", \"EOS\": \"Binance\", \n",
    "    \"ETC\": \"Binance\", \"ETH\": \"Binance\", \"ETP\": \"HitBTC\", \n",
    "    \"LTC\": \"Binance\", \"MANA\": \"Binance\", \"NEO\": \"Binance\", \n",
    "    \"NXT\": \"HitBTC\", \"OMG\": \"Binance\", \"QTUM\": \"Binance\", \n",
    "    \"RDD\": \"Bittrex\", \"SNT\": \"Binance\", \"TRX\": \"Binance\", \n",
    "    \"VIB\": \"Binance\", \"WAVES\": \"Binance\", \"XDN\": \"HitBTC\",\n",
    "    \"XEM\": \"Binance\", \"XLM\": \"Binance\", \"XMR\": \"Binance\", \n",
    "    \"XRP\": \"Binance\", \"XVG\": \"Bittrex\", \"ZEC\": \"Binance\"\n",
    "}\n",
    "\n",
    "# Time Range\n",
    "start_date = \"2024-01-01\"  # Start date\n",
    "end_date = \"2024-07-01\"  # End date\n",
    "\n",
    "# Convert dates to UNIX timestamps\n",
    "start_ts = int(pd.Timestamp(start_date).timestamp())\n",
    "end_ts = int(pd.Timestamp(end_date).timestamp())\n",
    "\n",
    "# Initialize DataFrame to store all results\n",
    "all_data = []\n",
    "\n",
    "# Fetch data for each coin\n",
    "for coin, exchange in tqdm(coins_exchanges.items(), desc=\"Fetching Data\"):\n",
    "    print(f\"\\nFetching data for {coin} from {exchange}...\")\n",
    "\n",
    "    toTs = end_ts  # Start from the most recent timestamp\n",
    "    coin_data = []\n",
    "\n",
    "    while toTs > start_ts:\n",
    "        params = {\n",
    "            \"fsym\": coin,\n",
    "            \"tsym\": \"USDT\",  # All data in USD\n",
    "            \"e\": exchange,  # Specify exchange\n",
    "            \"limit\": 2000,  # Max per request\n",
    "            \"toTs\": toTs,\n",
    "            \"api_key\": API_KEY  # Add API key if required\n",
    "        }\n",
    "\n",
    "        response = requests.get(API_URL, params=params)\n",
    "        data = response.json()\n",
    "\n",
    "        if \"Data\" in data and \"Data\" in data[\"Data\"]:\n",
    "            batch = data[\"Data\"][\"Data\"]\n",
    "            if not batch:\n",
    "                break  # Stop if no more data\n",
    "            \n",
    "            coin_data.extend(batch)\n",
    "\n",
    "            # Get the earliest timestamp from the current batch to paginate\n",
    "            toTs = batch[0][\"time\"] - 1  # Move back in time\n",
    "        else:\n",
    "            print(f\"Error fetching data for {coin}: {data}\")\n",
    "            break\n",
    "\n",
    "        # Avoid rate limits\n",
    "        time.sleep(1)\n",
    "\n",
    "    # Convert to DataFrame\n",
    "    df = pd.DataFrame(coin_data)\n",
    "    if not df.empty:\n",
    "        df[\"time\"] = pd.to_datetime(df[\"time\"], unit=\"s\")  # Convert timestamp\n",
    "        df[\"coin\"] = coin\n",
    "        df[\"exchange\"] = exchange\n",
    "        all_data.append(df)\n",
    "\n",
    "# Concatenate all coin data\n",
    "final_df1 = pd.concat(all_data, ignore_index=True)\n",
    "\n",
    "# Save to CSV\n",
    "final_df1.to_csv(\"crypto_hourly_OHLCV_1.csv\", index=False)\n",
    "\n",
    "print(\"\\n✅ Data collection complete! Saved as crypto_hourly_OHLCV.csv\")\n"
   ]
  },
  {
   "cell_type": "code",
   "execution_count": 17,
   "id": "b7b698ce",
   "metadata": {},
   "outputs": [
    {
     "data": {
      "text/html": [
       "<div>\n",
       "<style scoped>\n",
       "    .dataframe tbody tr th:only-of-type {\n",
       "        vertical-align: middle;\n",
       "    }\n",
       "\n",
       "    .dataframe tbody tr th {\n",
       "        vertical-align: top;\n",
       "    }\n",
       "\n",
       "    .dataframe thead th {\n",
       "        text-align: right;\n",
       "    }\n",
       "</style>\n",
       "<table border=\"1\" class=\"dataframe\">\n",
       "  <thead>\n",
       "    <tr style=\"text-align: right;\">\n",
       "      <th></th>\n",
       "      <th>time</th>\n",
       "      <th>close</th>\n",
       "      <th>high</th>\n",
       "      <th>low</th>\n",
       "      <th>open</th>\n",
       "      <th>volumefrom</th>\n",
       "      <th>volumeto</th>\n",
       "      <th>conversionType</th>\n",
       "      <th>conversionSymbol</th>\n",
       "      <th>coin</th>\n",
       "      <th>exchange</th>\n",
       "    </tr>\n",
       "  </thead>\n",
       "  <tbody>\n",
       "    <tr>\n",
       "      <th>180085</th>\n",
       "      <td>2024-01-16 02:00:00</td>\n",
       "      <td>23.62</td>\n",
       "      <td>23.71</td>\n",
       "      <td>23.50</td>\n",
       "      <td>23.63</td>\n",
       "      <td>2506.38</td>\n",
       "      <td>59183.78</td>\n",
       "      <td>force_direct</td>\n",
       "      <td></td>\n",
       "      <td>ZEC</td>\n",
       "      <td>Binance</td>\n",
       "    </tr>\n",
       "    <tr>\n",
       "      <th>180086</th>\n",
       "      <td>2024-01-16 03:00:00</td>\n",
       "      <td>23.55</td>\n",
       "      <td>23.67</td>\n",
       "      <td>23.44</td>\n",
       "      <td>23.62</td>\n",
       "      <td>8024.99</td>\n",
       "      <td>189092.61</td>\n",
       "      <td>force_direct</td>\n",
       "      <td></td>\n",
       "      <td>ZEC</td>\n",
       "      <td>Binance</td>\n",
       "    </tr>\n",
       "    <tr>\n",
       "      <th>180087</th>\n",
       "      <td>2024-01-16 04:00:00</td>\n",
       "      <td>23.66</td>\n",
       "      <td>23.67</td>\n",
       "      <td>23.54</td>\n",
       "      <td>23.55</td>\n",
       "      <td>3645.56</td>\n",
       "      <td>86022.22</td>\n",
       "      <td>force_direct</td>\n",
       "      <td></td>\n",
       "      <td>ZEC</td>\n",
       "      <td>Binance</td>\n",
       "    </tr>\n",
       "    <tr>\n",
       "      <th>180088</th>\n",
       "      <td>2024-01-16 05:00:00</td>\n",
       "      <td>23.42</td>\n",
       "      <td>23.70</td>\n",
       "      <td>23.41</td>\n",
       "      <td>23.66</td>\n",
       "      <td>2692.32</td>\n",
       "      <td>63540.40</td>\n",
       "      <td>force_direct</td>\n",
       "      <td></td>\n",
       "      <td>ZEC</td>\n",
       "      <td>Binance</td>\n",
       "    </tr>\n",
       "    <tr>\n",
       "      <th>180089</th>\n",
       "      <td>2024-01-16 06:00:00</td>\n",
       "      <td>23.37</td>\n",
       "      <td>23.44</td>\n",
       "      <td>23.31</td>\n",
       "      <td>23.42</td>\n",
       "      <td>5352.72</td>\n",
       "      <td>125113.07</td>\n",
       "      <td>force_direct</td>\n",
       "      <td></td>\n",
       "      <td>ZEC</td>\n",
       "      <td>Binance</td>\n",
       "    </tr>\n",
       "  </tbody>\n",
       "</table>\n",
       "</div>"
      ],
      "text/plain": [
       "                      time  close   high    low   open  volumefrom   volumeto  \\\n",
       "180085 2024-01-16 02:00:00  23.62  23.71  23.50  23.63     2506.38   59183.78   \n",
       "180086 2024-01-16 03:00:00  23.55  23.67  23.44  23.62     8024.99  189092.61   \n",
       "180087 2024-01-16 04:00:00  23.66  23.67  23.54  23.55     3645.56   86022.22   \n",
       "180088 2024-01-16 05:00:00  23.42  23.70  23.41  23.66     2692.32   63540.40   \n",
       "180089 2024-01-16 06:00:00  23.37  23.44  23.31  23.42     5352.72  125113.07   \n",
       "\n",
       "       conversionType conversionSymbol coin exchange  \n",
       "180085   force_direct                   ZEC  Binance  \n",
       "180086   force_direct                   ZEC  Binance  \n",
       "180087   force_direct                   ZEC  Binance  \n",
       "180088   force_direct                   ZEC  Binance  \n",
       "180089   force_direct                   ZEC  Binance  "
      ]
     },
     "execution_count": 17,
     "metadata": {},
     "output_type": "execute_result"
    }
   ],
   "source": [
    "final_df1.tail()"
   ]
  }
 ],
 "metadata": {
  "kernelspec": {
   "display_name": "Python 3 (ipykernel)",
   "language": "python",
   "name": "python3"
  },
  "language_info": {
   "codemirror_mode": {
    "name": "ipython",
    "version": 3
   },
   "file_extension": ".py",
   "mimetype": "text/x-python",
   "name": "python",
   "nbconvert_exporter": "python",
   "pygments_lexer": "ipython3",
   "version": "3.8.5"
  }
 },
 "nbformat": 4,
 "nbformat_minor": 5
}
