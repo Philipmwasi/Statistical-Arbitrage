{
 "cells": [
  {
   "cell_type": "code",
   "execution_count": 1,
   "id": "1785d246",
   "metadata": {},
   "outputs": [],
   "source": [
    "# importing the necessary libraries\n",
    "import requests\n",
    "import pandas as pd\n",
    "import time\n",
    "from tqdm import tqdm # Progress bar for better visibility\n",
    "import creds"
   ]
  },
  {
   "cell_type": "code",
   "execution_count": 2,
   "id": "6a836b3d",
   "metadata": {},
   "outputs": [
    {
     "name": "stderr",
     "output_type": "stream",
     "text": [
      "\r",
      "Fetching Data:   0%|          | 0/30 [00:00<?, ?it/s]"
     ]
    },
    {
     "name": "stdout",
     "output_type": "stream",
     "text": [
      "\n",
      "Fetching data for ADA from Binance...\n"
     ]
    },
    {
     "name": "stderr",
     "output_type": "stream",
     "text": [
      "\r",
      "Fetching Data:   3%|▎         | 1/30 [00:26<12:52, 26.63s/it]"
     ]
    },
    {
     "name": "stdout",
     "output_type": "stream",
     "text": [
      "\n",
      "Fetching data for BCH from Binance...\n"
     ]
    },
    {
     "name": "stderr",
     "output_type": "stream",
     "text": [
      "\r",
      "Fetching Data:   7%|▋         | 2/30 [04:56<1:19:04, 169.44s/it]"
     ]
    },
    {
     "name": "stdout",
     "output_type": "stream",
     "text": [
      "\n",
      "Fetching data for BCN from HitBTC...\n"
     ]
    },
    {
     "name": "stderr",
     "output_type": "stream",
     "text": [
      "\r",
      "Fetching Data:  10%|█         | 3/30 [05:09<44:09, 98.12s/it]   "
     ]
    },
    {
     "name": "stdout",
     "output_type": "stream",
     "text": [
      "\n",
      "Fetching data for BTC from Binance...\n"
     ]
    },
    {
     "name": "stderr",
     "output_type": "stream",
     "text": [
      "\r",
      "Fetching Data:  13%|█▎        | 4/30 [05:40<31:06, 71.78s/it]"
     ]
    },
    {
     "name": "stdout",
     "output_type": "stream",
     "text": [
      "\n",
      "Fetching data for CND from HitBTC...\n"
     ]
    },
    {
     "name": "stderr",
     "output_type": "stream",
     "text": [
      "\r",
      "Fetching Data:  17%|█▋        | 5/30 [05:53<21:01, 50.46s/it]"
     ]
    },
    {
     "name": "stdout",
     "output_type": "stream",
     "text": [
      "\n",
      "Fetching data for CVC from Binance...\n"
     ]
    },
    {
     "name": "stderr",
     "output_type": "stream",
     "text": [
      "\r",
      "Fetching Data:  20%|██        | 6/30 [07:02<22:46, 56.93s/it]"
     ]
    },
    {
     "name": "stdout",
     "output_type": "stream",
     "text": [
      "\n",
      "Fetching data for DASH from Binance...\n"
     ]
    },
    {
     "name": "stderr",
     "output_type": "stream",
     "text": [
      "\r",
      "Fetching Data:  23%|██▎       | 7/30 [07:45<20:03, 52.32s/it]"
     ]
    },
    {
     "name": "stdout",
     "output_type": "stream",
     "text": [
      "\n",
      "Fetching data for DATA from Binance...\n"
     ]
    },
    {
     "name": "stderr",
     "output_type": "stream",
     "text": [
      "\r",
      "Fetching Data:  27%|██▋       | 8/30 [08:41<19:39, 53.60s/it]"
     ]
    },
    {
     "name": "stdout",
     "output_type": "stream",
     "text": [
      "\n",
      "Fetching data for EOS from Binance...\n"
     ]
    },
    {
     "name": "stderr",
     "output_type": "stream",
     "text": [
      "\r",
      "Fetching Data:  30%|███       | 9/30 [08:58<14:38, 41.85s/it]"
     ]
    },
    {
     "name": "stdout",
     "output_type": "stream",
     "text": [
      "\n",
      "Fetching data for ETC from Binance...\n"
     ]
    },
    {
     "name": "stderr",
     "output_type": "stream",
     "text": [
      "\r",
      "Fetching Data:  33%|███▎      | 10/30 [09:25<12:25, 37.27s/it]"
     ]
    },
    {
     "name": "stdout",
     "output_type": "stream",
     "text": [
      "\n",
      "Fetching data for ETH from Binance...\n"
     ]
    },
    {
     "name": "stderr",
     "output_type": "stream",
     "text": [
      "\r",
      "Fetching Data:  37%|███▋      | 11/30 [09:36<09:16, 29.29s/it]"
     ]
    },
    {
     "name": "stdout",
     "output_type": "stream",
     "text": [
      "\n",
      "Fetching data for ETP from HitBTC...\n"
     ]
    },
    {
     "name": "stderr",
     "output_type": "stream",
     "text": [
      "\r",
      "Fetching Data:  40%|████      | 12/30 [09:43<06:44, 22.47s/it]"
     ]
    },
    {
     "name": "stdout",
     "output_type": "stream",
     "text": [
      "\n",
      "Fetching data for LTC from Binance...\n"
     ]
    },
    {
     "name": "stderr",
     "output_type": "stream",
     "text": [
      "\r",
      "Fetching Data:  43%|████▎     | 13/30 [09:57<05:38, 19.94s/it]"
     ]
    },
    {
     "name": "stdout",
     "output_type": "stream",
     "text": [
      "\n",
      "Fetching data for MANA from Binance...\n"
     ]
    },
    {
     "name": "stderr",
     "output_type": "stream",
     "text": [
      "\r",
      "Fetching Data:  47%|████▋     | 14/30 [10:08<04:35, 17.20s/it]"
     ]
    },
    {
     "name": "stdout",
     "output_type": "stream",
     "text": [
      "\n",
      "Fetching data for NEO from Binance...\n"
     ]
    },
    {
     "name": "stderr",
     "output_type": "stream",
     "text": [
      "\r",
      "Fetching Data:  50%|█████     | 15/30 [10:18<03:46, 15.09s/it]"
     ]
    },
    {
     "name": "stdout",
     "output_type": "stream",
     "text": [
      "\n",
      "Fetching data for NXT from HitBTC...\n"
     ]
    },
    {
     "name": "stderr",
     "output_type": "stream",
     "text": [
      "\r",
      "Fetching Data:  53%|█████▎    | 16/30 [10:25<02:58, 12.74s/it]"
     ]
    },
    {
     "name": "stdout",
     "output_type": "stream",
     "text": [
      "\n",
      "Fetching data for OMG from Binance...\n"
     ]
    },
    {
     "name": "stderr",
     "output_type": "stream",
     "text": [
      "\r",
      "Fetching Data:  57%|█████▋    | 17/30 [10:43<03:07, 14.40s/it]"
     ]
    },
    {
     "name": "stdout",
     "output_type": "stream",
     "text": [
      "\n",
      "Fetching data for QTUM from Binance...\n"
     ]
    },
    {
     "name": "stderr",
     "output_type": "stream",
     "text": [
      "\r",
      "Fetching Data:  60%|██████    | 18/30 [10:58<02:53, 14.47s/it]"
     ]
    },
    {
     "name": "stdout",
     "output_type": "stream",
     "text": [
      "\n",
      "Fetching data for RDD from Bittrex...\n"
     ]
    },
    {
     "name": "stderr",
     "output_type": "stream",
     "text": [
      "\r",
      "Fetching Data:  63%|██████▎   | 19/30 [11:04<02:11, 11.94s/it]"
     ]
    },
    {
     "name": "stdout",
     "output_type": "stream",
     "text": [
      "\n",
      "Fetching data for SNT from Binance...\n"
     ]
    },
    {
     "name": "stderr",
     "output_type": "stream",
     "text": [
      "\r",
      "Fetching Data:  67%|██████▋   | 20/30 [11:26<02:29, 14.95s/it]"
     ]
    },
    {
     "name": "stdout",
     "output_type": "stream",
     "text": [
      "\n",
      "Fetching data for TRX from Binance...\n"
     ]
    },
    {
     "name": "stderr",
     "output_type": "stream",
     "text": [
      "\r",
      "Fetching Data:  70%|███████   | 21/30 [11:44<02:23, 15.97s/it]"
     ]
    },
    {
     "name": "stdout",
     "output_type": "stream",
     "text": [
      "\n",
      "Fetching data for VIB from Binance...\n"
     ]
    },
    {
     "name": "stderr",
     "output_type": "stream",
     "text": [
      "\r",
      "Fetching Data:  73%|███████▎  | 22/30 [12:03<02:14, 16.87s/it]"
     ]
    },
    {
     "name": "stdout",
     "output_type": "stream",
     "text": [
      "\n",
      "Fetching data for WAVES from Binance...\n"
     ]
    },
    {
     "name": "stderr",
     "output_type": "stream",
     "text": [
      "\r",
      "Fetching Data:  77%|███████▋  | 23/30 [12:32<02:23, 20.43s/it]"
     ]
    },
    {
     "name": "stdout",
     "output_type": "stream",
     "text": [
      "\n",
      "Fetching data for XDN from HitBTC...\n"
     ]
    },
    {
     "name": "stderr",
     "output_type": "stream",
     "text": [
      "\r",
      "Fetching Data:  80%|████████  | 24/30 [12:41<01:42, 17.09s/it]"
     ]
    },
    {
     "name": "stdout",
     "output_type": "stream",
     "text": [
      "\n",
      "Fetching data for XEM from Binance...\n"
     ]
    },
    {
     "name": "stderr",
     "output_type": "stream",
     "text": [
      "\r",
      "Fetching Data:  83%|████████▎ | 25/30 [13:07<01:38, 19.67s/it]"
     ]
    },
    {
     "name": "stdout",
     "output_type": "stream",
     "text": [
      "\n",
      "Fetching data for XLM from Binance...\n"
     ]
    },
    {
     "name": "stderr",
     "output_type": "stream",
     "text": [
      "\r",
      "Fetching Data:  87%|████████▋ | 26/30 [13:30<01:22, 20.54s/it]"
     ]
    },
    {
     "name": "stdout",
     "output_type": "stream",
     "text": [
      "\n",
      "Fetching data for XMR from Binance...\n"
     ]
    },
    {
     "name": "stderr",
     "output_type": "stream",
     "text": [
      "\r",
      "Fetching Data:  90%|█████████ | 27/30 [13:46<00:57, 19.16s/it]"
     ]
    },
    {
     "name": "stdout",
     "output_type": "stream",
     "text": [
      "\n",
      "Fetching data for XRP from Binance...\n"
     ]
    },
    {
     "name": "stderr",
     "output_type": "stream",
     "text": [
      "\r",
      "Fetching Data:  93%|█████████▎| 28/30 [14:10<00:41, 20.65s/it]"
     ]
    },
    {
     "name": "stdout",
     "output_type": "stream",
     "text": [
      "\n",
      "Fetching data for XVG from Bittrex...\n"
     ]
    },
    {
     "name": "stderr",
     "output_type": "stream",
     "text": [
      "\r",
      "Fetching Data:  97%|█████████▋| 29/30 [14:16<00:16, 16.31s/it]"
     ]
    },
    {
     "name": "stdout",
     "output_type": "stream",
     "text": [
      "\n",
      "Fetching data for ZEC from Binance...\n"
     ]
    },
    {
     "name": "stderr",
     "output_type": "stream",
     "text": [
      "Fetching Data: 100%|██████████| 30/30 [14:37<00:00, 29.23s/it]\n"
     ]
    },
    {
     "name": "stdout",
     "output_type": "stream",
     "text": [
      "\n",
      "✅ Data collection complete! Saved as crypto_hourly_OHLCV.csv\n"
     ]
    }
   ],
   "source": [
    "# API Configuration\n",
    "API_URL =  \"https://min-api.cryptocompare.com/data/v2/histohour\"\n",
    "API_KEY = creds.API_KEY\n",
    "\n",
    "#  list of 30 cryptocurrencies and their most liquid exchanges\n",
    "coins_exchanges = {\n",
    "    \"ADA\": \"Binance\", \"BCH\": \"Binance\", \"BCN\": \"HitBTC\", \n",
    "    \"BTC\": \"Binance\", \"CND\": \"HitBTC\", \"CVC\": \"Binance\",\n",
    "    \"DASH\": \"Binance\", \"DATA\": \"Binance\", \"EOS\": \"Binance\", \n",
    "    \"ETC\": \"Binance\", \"ETH\": \"Binance\", \"ETP\": \"HitBTC\", \n",
    "    \"LTC\": \"Binance\", \"MANA\": \"Binance\", \"NEO\": \"Binance\", \n",
    "    \"NXT\": \"HitBTC\", \"OMG\": \"Binance\", \"QTUM\": \"Binance\", \n",
    "    \"RDD\": \"Bittrex\", \"SNT\": \"Binance\", \"TRX\": \"Binance\", \n",
    "    \"VIB\": \"Binance\", \"WAVES\": \"Binance\", \"XDN\": \"HitBTC\",\n",
    "    \"XEM\": \"Binance\", \"XLM\": \"Binance\", \"XMR\": \"Binance\", \n",
    "    \"XRP\": \"Binance\", \"XVG\": \"Bittrex\", \"ZEC\": \"Binance\"\n",
    "}\n",
    "\n",
    "# Time Range\n",
    "start_date = \"2024-01-01\"  # Start date\n",
    "end_date = \"2024-07-01\"  # End date\n",
    "\n",
    "# Convert dates to UNIX timestamps\n",
    "start_ts = int(pd.Timestamp(start_date).timestamp())\n",
    "end_ts = int(pd.Timestamp(end_date).timestamp())\n",
    "\n",
    "# Initialize DataFrame to store all results\n",
    "all_data = []\n",
    "\n",
    "# Fetch data for each coin\n",
    "for coin, exchange in tqdm(coins_exchanges.items(), desc=\"Fetching Data\"):\n",
    "    print(f\"\\nFetching data for {coin} from {exchange}...\")\n",
    "\n",
    "    toTs = end_ts  # Start from the most recent timestamp\n",
    "    coin_data = []\n",
    "\n",
    "    while toTs > start_ts:\n",
    "        params = {\n",
    "            \"fsym\": coin,\n",
    "            \"tsym\": \"USDT\",  # All data in USDT\n",
    "            \"e\": exchange,  \n",
    "            \"limit\": 2000,  # Max per request\n",
    "            \"toTs\": toTs,\n",
    "            \"api_key\": API_KEY  # Add API key\n",
    "        }\n",
    "\n",
    "        response = requests.get(API_URL, params=params)\n",
    "        data = response.json()\n",
    "\n",
    "        if \"Data\" in data and \"Data\" in data[\"Data\"]:\n",
    "            batch = data[\"Data\"][\"Data\"]\n",
    "            if not batch:\n",
    "                break  # Stop if no more data\n",
    "            \n",
    "            coin_data.extend(batch)\n",
    "\n",
    "            # Get the earliest timestamp from the current batch to paginate\n",
    "            toTs = batch[0][\"time\"] - 1  # Move back in time\n",
    "        else:\n",
    "            print(f\"Error fetching data for {coin}: {data}\")\n",
    "            break\n",
    "\n",
    "        # Avoid rate limits\n",
    "        time.sleep(1)\n",
    "\n",
    "    # Convert to DataFrame\n",
    "    df = pd.DataFrame(coin_data)\n",
    "    if not df.empty:\n",
    "        df[\"time\"] = pd.to_datetime(df[\"time\"], unit=\"s\")  # Convert timestamp\n",
    "        df[\"coin\"] = coin\n",
    "        df[\"exchange\"] = exchange\n",
    "        all_data.append(df)\n",
    "\n",
    "# Concatenate all coin data\n",
    "final_df = pd.concat(all_data, ignore_index=True)\n",
    "\n",
    "# Save to CSV\n",
    "final_df.to_csv(\"crypto_hourly_OHLCV.csv\", index=False)\n",
    "\n",
    "print(\"\\n✅ Data collection complete! Saved as crypto_hourly_OHLCV.csv\")"
   ]
  },
  {
   "cell_type": "code",
   "execution_count": 5,
   "id": "b7b698ce",
   "metadata": {},
   "outputs": [
    {
     "data": {
      "text/html": [
       "<div>\n",
       "<style scoped>\n",
       "    .dataframe tbody tr th:only-of-type {\n",
       "        vertical-align: middle;\n",
       "    }\n",
       "\n",
       "    .dataframe tbody tr th {\n",
       "        vertical-align: top;\n",
       "    }\n",
       "\n",
       "    .dataframe thead th {\n",
       "        text-align: right;\n",
       "    }\n",
       "</style>\n",
       "<table border=\"1\" class=\"dataframe\">\n",
       "  <thead>\n",
       "    <tr style=\"text-align: right;\">\n",
       "      <th></th>\n",
       "      <th>time</th>\n",
       "      <th>close</th>\n",
       "      <th>high</th>\n",
       "      <th>low</th>\n",
       "      <th>open</th>\n",
       "      <th>volumefrom</th>\n",
       "      <th>volumeto</th>\n",
       "      <th>conversionType</th>\n",
       "      <th>conversionSymbol</th>\n",
       "      <th>coin</th>\n",
       "      <th>exchange</th>\n",
       "    </tr>\n",
       "  </thead>\n",
       "  <tbody>\n",
       "    <tr>\n",
       "      <th>0</th>\n",
       "      <td>2024-04-08 16:00:00</td>\n",
       "      <td>0.6112</td>\n",
       "      <td>0.6115</td>\n",
       "      <td>0.6062</td>\n",
       "      <td>0.6074</td>\n",
       "      <td>4825802.1</td>\n",
       "      <td>2942962.56</td>\n",
       "      <td>force_direct</td>\n",
       "      <td>NaN</td>\n",
       "      <td>ADA</td>\n",
       "      <td>Binance</td>\n",
       "    </tr>\n",
       "    <tr>\n",
       "      <th>1</th>\n",
       "      <td>2024-04-08 17:00:00</td>\n",
       "      <td>0.6126</td>\n",
       "      <td>0.6138</td>\n",
       "      <td>0.6087</td>\n",
       "      <td>0.6112</td>\n",
       "      <td>3482941.5</td>\n",
       "      <td>2128869.38</td>\n",
       "      <td>force_direct</td>\n",
       "      <td>NaN</td>\n",
       "      <td>ADA</td>\n",
       "      <td>Binance</td>\n",
       "    </tr>\n",
       "    <tr>\n",
       "      <th>2</th>\n",
       "      <td>2024-04-08 18:00:00</td>\n",
       "      <td>0.6129</td>\n",
       "      <td>0.6144</td>\n",
       "      <td>0.6115</td>\n",
       "      <td>0.6126</td>\n",
       "      <td>3454875.1</td>\n",
       "      <td>2118343.33</td>\n",
       "      <td>force_direct</td>\n",
       "      <td>NaN</td>\n",
       "      <td>ADA</td>\n",
       "      <td>Binance</td>\n",
       "    </tr>\n",
       "    <tr>\n",
       "      <th>3</th>\n",
       "      <td>2024-04-08 19:00:00</td>\n",
       "      <td>0.6148</td>\n",
       "      <td>0.6151</td>\n",
       "      <td>0.6126</td>\n",
       "      <td>0.6129</td>\n",
       "      <td>3470461.3</td>\n",
       "      <td>2131618.81</td>\n",
       "      <td>force_direct</td>\n",
       "      <td>NaN</td>\n",
       "      <td>ADA</td>\n",
       "      <td>Binance</td>\n",
       "    </tr>\n",
       "    <tr>\n",
       "      <th>4</th>\n",
       "      <td>2024-04-08 20:00:00</td>\n",
       "      <td>0.6142</td>\n",
       "      <td>0.6152</td>\n",
       "      <td>0.6120</td>\n",
       "      <td>0.6148</td>\n",
       "      <td>2958147.2</td>\n",
       "      <td>1815447.80</td>\n",
       "      <td>force_direct</td>\n",
       "      <td>NaN</td>\n",
       "      <td>ADA</td>\n",
       "      <td>Binance</td>\n",
       "    </tr>\n",
       "  </tbody>\n",
       "</table>\n",
       "</div>"
      ],
      "text/plain": [
       "                  time   close    high     low    open  volumefrom  \\\n",
       "0  2024-04-08 16:00:00  0.6112  0.6115  0.6062  0.6074   4825802.1   \n",
       "1  2024-04-08 17:00:00  0.6126  0.6138  0.6087  0.6112   3482941.5   \n",
       "2  2024-04-08 18:00:00  0.6129  0.6144  0.6115  0.6126   3454875.1   \n",
       "3  2024-04-08 19:00:00  0.6148  0.6151  0.6126  0.6129   3470461.3   \n",
       "4  2024-04-08 20:00:00  0.6142  0.6152  0.6120  0.6148   2958147.2   \n",
       "\n",
       "     volumeto conversionType  conversionSymbol coin exchange  \n",
       "0  2942962.56   force_direct               NaN  ADA  Binance  \n",
       "1  2128869.38   force_direct               NaN  ADA  Binance  \n",
       "2  2118343.33   force_direct               NaN  ADA  Binance  \n",
       "3  2131618.81   force_direct               NaN  ADA  Binance  \n",
       "4  1815447.80   force_direct               NaN  ADA  Binance  "
      ]
     },
     "execution_count": 5,
     "metadata": {},
     "output_type": "execute_result"
    }
   ],
   "source": [
    "df = pd.read_csv('crypto_hourly_OHLCV.csv')\n",
    "df.head()"
   ]
  },
  {
   "cell_type": "code",
   "execution_count": 6,
   "id": "ac9ef515",
   "metadata": {},
   "outputs": [
    {
     "data": {
      "text/plain": [
       "(180090, 11)"
      ]
     },
     "execution_count": 6,
     "metadata": {},
     "output_type": "execute_result"
    }
   ],
   "source": [
    "df.shape"
   ]
  }
 ],
 "metadata": {
  "kernelspec": {
   "display_name": "Python 3 (ipykernel)",
   "language": "python",
   "name": "python3"
  },
  "language_info": {
   "codemirror_mode": {
    "name": "ipython",
    "version": 3
   },
   "file_extension": ".py",
   "mimetype": "text/x-python",
   "name": "python",
   "nbconvert_exporter": "python",
   "pygments_lexer": "ipython3",
   "version": "3.8.5"
  }
 },
 "nbformat": 4,
 "nbformat_minor": 5
}
