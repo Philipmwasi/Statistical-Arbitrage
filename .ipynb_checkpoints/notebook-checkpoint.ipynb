{
 "cells": [
  {
   "cell_type": "code",
   "execution_count": 1,
   "id": "1785d246",
   "metadata": {},
   "outputs": [],
   "source": [
    "# importing the necessary libraries\n",
    "import requests\n",
    "import pandas as pd\n",
    "import time\n",
    "# from tqdm import tqdm # Progress bar for better visibility\n",
    "import numpy as np\n",
    "import matplotlib.pyplot as plt\n",
    "import seaborn as sns"
   ]
  },
  {
   "cell_type": "code",
   "execution_count": 2,
   "id": "6a836b3d",
   "metadata": {},
   "outputs": [],
   "source": [
    "# # API Configuration\n",
    "# API_URL =  \"https://min-api.cryptocompare.com/data/v2/histohour\"\n",
    "# API_KEY = creds.API_KEY\n",
    "\n",
    "# #  list of 30 cryptocurrencies and their most liquid exchanges\n",
    "# coins_exchanges = {\n",
    "#     \"ADA\": \"Binance\", \"BCH\": \"Binance\", \"BCN\": \"HitBTC\", \n",
    "#     \"BTC\": \"Binance\", \"CND\": \"HitBTC\", \"CVC\": \"Binance\",\n",
    "#     \"DASH\": \"Binance\", \"DATA\": \"Binance\", \"EOS\": \"Binance\", \n",
    "#     \"ETC\": \"Binance\", \"ETH\": \"Binance\", \"ETP\": \"HitBTC\", \n",
    "#     \"LTC\": \"Binance\", \"MANA\": \"Binance\", \"NEO\": \"Binance\", \n",
    "#     \"NXT\": \"HitBTC\", \"OMG\": \"Binance\", \"QTUM\": \"Binance\", \n",
    "#     \"RDD\": \"Bittrex\", \"SNT\": \"Binance\", \"TRX\": \"Binance\", \n",
    "#     \"VIB\": \"Binance\", \"WAVES\": \"Binance\", \"XDN\": \"HitBTC\",\n",
    "#     \"XEM\": \"Binance\", \"XLM\": \"Binance\", \"XMR\": \"Binance\", \n",
    "#     \"XRP\": \"Binance\", \"XVG\": \"Bittrex\", \"ZEC\": \"Binance\"\n",
    "# }\n",
    "\n",
    "# # Time Range\n",
    "# start_date = \"2024-01-01\"  # Start date\n",
    "# end_date = \"2024-07-01\"  # End date\n",
    "\n",
    "# # Convert dates to UNIX timestamps\n",
    "# start_ts = int(pd.Timestamp(start_date).timestamp())\n",
    "# end_ts = int(pd.Timestamp(end_date).timestamp())\n",
    "\n",
    "# # Initialize DataFrame to store all results\n",
    "# all_data = []\n",
    "\n",
    "# # Fetch data for each coin\n",
    "# for coin, exchange in tqdm(coins_exchanges.items(), desc=\"Fetching Data\"):\n",
    "#     print(f\"\\nFetching data for {coin} from {exchange}...\")\n",
    "\n",
    "#     toTs = end_ts  # Start from the most recent timestamp\n",
    "#     coin_data = []\n",
    "\n",
    "#     while toTs > start_ts:\n",
    "#         params = {\n",
    "#             \"fsym\": coin,\n",
    "#             \"tsym\": \"USDT\",  # All data in USDT\n",
    "#             \"e\": exchange,  \n",
    "#             \"limit\": 2000,  # Max per request\n",
    "#             \"toTs\": toTs,\n",
    "#             \"api_key\": API_KEY  # Add API key\n",
    "#         }\n",
    "\n",
    "#         response = requests.get(API_URL, params=params)\n",
    "#         data = response.json()\n",
    "\n",
    "#         if \"Data\" in data and \"Data\" in data[\"Data\"]:\n",
    "#             batch = data[\"Data\"][\"Data\"]\n",
    "#             if not batch:\n",
    "#                 break  # Stop if no more data\n",
    "            \n",
    "#             coin_data.extend(batch)\n",
    "\n",
    "#             # Get the earliest timestamp from the current batch to paginate\n",
    "#             toTs = batch[0][\"time\"] - 1  # Move back in time\n",
    "#         else:\n",
    "#             print(f\"Error fetching data for {coin}: {data}\")\n",
    "#             break\n",
    "\n",
    "#         # Avoid rate limits\n",
    "#         time.sleep(1)\n",
    "\n",
    "#     # Convert to DataFrame\n",
    "#     df = pd.DataFrame(coin_data)\n",
    "#     if not df.empty:\n",
    "#         df[\"time\"] = pd.to_datetime(df[\"time\"], unit=\"s\")  # Convert timestamp\n",
    "#         df[\"coin\"] = coin\n",
    "#         df[\"exchange\"] = exchange\n",
    "#         all_data.append(df)\n",
    "\n",
    "# # Concatenate all coin data\n",
    "# final_df = pd.concat(all_data, ignore_index=True)\n",
    "\n",
    "# # Save to CSV\n",
    "# final_df.to_csv(\"crypto_hourly_OHLCV.csv\", index=False)\n",
    "\n",
    "# print(\"\\n✅ Data collection complete! Saved as crypto_hourly_OHLCV.csv\")"
   ]
  },
  {
   "cell_type": "code",
   "execution_count": 3,
   "id": "b7b698ce",
   "metadata": {},
   "outputs": [],
   "source": [
    "# df = pd.read_csv('crypto_hourly_OHLCV.csv')\n",
    "# df.head()"
   ]
  },
  {
   "cell_type": "code",
   "execution_count": 4,
   "id": "ac9ef515",
   "metadata": {},
   "outputs": [
    {
     "data": {
      "text/html": [
       "<div>\n",
       "<style scoped>\n",
       "    .dataframe tbody tr th:only-of-type {\n",
       "        vertical-align: middle;\n",
       "    }\n",
       "\n",
       "    .dataframe tbody tr th {\n",
       "        vertical-align: top;\n",
       "    }\n",
       "\n",
       "    .dataframe thead th {\n",
       "        text-align: right;\n",
       "    }\n",
       "</style>\n",
       "<table border=\"1\" class=\"dataframe\">\n",
       "  <thead>\n",
       "    <tr style=\"text-align: right;\">\n",
       "      <th></th>\n",
       "      <th>time</th>\n",
       "      <th>close</th>\n",
       "      <th>high</th>\n",
       "      <th>low</th>\n",
       "      <th>open</th>\n",
       "      <th>volumefrom</th>\n",
       "      <th>volumeto</th>\n",
       "      <th>conversionType</th>\n",
       "      <th>conversionSymbol</th>\n",
       "      <th>coin</th>\n",
       "      <th>exchange</th>\n",
       "    </tr>\n",
       "  </thead>\n",
       "  <tbody>\n",
       "    <tr>\n",
       "      <th>0</th>\n",
       "      <td>2024-04-08 16:00:00</td>\n",
       "      <td>0.6112</td>\n",
       "      <td>0.6115</td>\n",
       "      <td>0.6062</td>\n",
       "      <td>0.6074</td>\n",
       "      <td>4825802.1</td>\n",
       "      <td>2942962.56</td>\n",
       "      <td>force_direct</td>\n",
       "      <td>NaN</td>\n",
       "      <td>ADA</td>\n",
       "      <td>Binance</td>\n",
       "    </tr>\n",
       "    <tr>\n",
       "      <th>1</th>\n",
       "      <td>2024-04-08 17:00:00</td>\n",
       "      <td>0.6126</td>\n",
       "      <td>0.6138</td>\n",
       "      <td>0.6087</td>\n",
       "      <td>0.6112</td>\n",
       "      <td>3482941.5</td>\n",
       "      <td>2128869.38</td>\n",
       "      <td>force_direct</td>\n",
       "      <td>NaN</td>\n",
       "      <td>ADA</td>\n",
       "      <td>Binance</td>\n",
       "    </tr>\n",
       "    <tr>\n",
       "      <th>2</th>\n",
       "      <td>2024-04-08 18:00:00</td>\n",
       "      <td>0.6129</td>\n",
       "      <td>0.6144</td>\n",
       "      <td>0.6115</td>\n",
       "      <td>0.6126</td>\n",
       "      <td>3454875.1</td>\n",
       "      <td>2118343.33</td>\n",
       "      <td>force_direct</td>\n",
       "      <td>NaN</td>\n",
       "      <td>ADA</td>\n",
       "      <td>Binance</td>\n",
       "    </tr>\n",
       "    <tr>\n",
       "      <th>3</th>\n",
       "      <td>2024-04-08 19:00:00</td>\n",
       "      <td>0.6148</td>\n",
       "      <td>0.6151</td>\n",
       "      <td>0.6126</td>\n",
       "      <td>0.6129</td>\n",
       "      <td>3470461.3</td>\n",
       "      <td>2131618.81</td>\n",
       "      <td>force_direct</td>\n",
       "      <td>NaN</td>\n",
       "      <td>ADA</td>\n",
       "      <td>Binance</td>\n",
       "    </tr>\n",
       "    <tr>\n",
       "      <th>4</th>\n",
       "      <td>2024-04-08 20:00:00</td>\n",
       "      <td>0.6142</td>\n",
       "      <td>0.6152</td>\n",
       "      <td>0.6120</td>\n",
       "      <td>0.6148</td>\n",
       "      <td>2958147.2</td>\n",
       "      <td>1815447.80</td>\n",
       "      <td>force_direct</td>\n",
       "      <td>NaN</td>\n",
       "      <td>ADA</td>\n",
       "      <td>Binance</td>\n",
       "    </tr>\n",
       "  </tbody>\n",
       "</table>\n",
       "</div>"
      ],
      "text/plain": [
       "                  time   close    high     low    open  volumefrom  \\\n",
       "0  2024-04-08 16:00:00  0.6112  0.6115  0.6062  0.6074   4825802.1   \n",
       "1  2024-04-08 17:00:00  0.6126  0.6138  0.6087  0.6112   3482941.5   \n",
       "2  2024-04-08 18:00:00  0.6129  0.6144  0.6115  0.6126   3454875.1   \n",
       "3  2024-04-08 19:00:00  0.6148  0.6151  0.6126  0.6129   3470461.3   \n",
       "4  2024-04-08 20:00:00  0.6142  0.6152  0.6120  0.6148   2958147.2   \n",
       "\n",
       "     volumeto conversionType  conversionSymbol coin exchange  \n",
       "0  2942962.56   force_direct               NaN  ADA  Binance  \n",
       "1  2128869.38   force_direct               NaN  ADA  Binance  \n",
       "2  2118343.33   force_direct               NaN  ADA  Binance  \n",
       "3  2131618.81   force_direct               NaN  ADA  Binance  \n",
       "4  1815447.80   force_direct               NaN  ADA  Binance  "
      ]
     },
     "execution_count": 4,
     "metadata": {},
     "output_type": "execute_result"
    }
   ],
   "source": [
    "# Load the Titanic dataset\n",
    "df = pd.read_csv('crypto_hourly_OHLCV.CSV')\n",
    "\n",
    "# Display the first few rows\n",
    "df.head()"
   ]
  },
  {
   "cell_type": "code",
   "execution_count": 5,
   "id": "3e1a86e0-a83c-426b-8779-529efebdd727",
   "metadata": {},
   "outputs": [
    {
     "name": "stdout",
     "output_type": "stream",
     "text": [
      "<class 'pandas.core.frame.DataFrame'>\n",
      "RangeIndex: 180090 entries, 0 to 180089\n",
      "Data columns (total 11 columns):\n",
      " #   Column            Non-Null Count   Dtype  \n",
      "---  ------            --------------   -----  \n",
      " 0   time              180090 non-null  object \n",
      " 1   close             180090 non-null  float64\n",
      " 2   high              180090 non-null  float64\n",
      " 3   low               180090 non-null  float64\n",
      " 4   open              180090 non-null  float64\n",
      " 5   volumefrom        180090 non-null  float64\n",
      " 6   volumeto          180090 non-null  float64\n",
      " 7   conversionType    180090 non-null  object \n",
      " 8   conversionSymbol  0 non-null       float64\n",
      " 9   coin              180090 non-null  object \n",
      " 10  exchange          180090 non-null  object \n",
      "dtypes: float64(7), object(4)\n",
      "memory usage: 15.1+ MB\n",
      "None\n"
     ]
    }
   ],
   "source": [
    "# Get basic information about the dataset\n",
    "print(df.info())"
   ]
  },
  {
   "cell_type": "code",
   "execution_count": 6,
   "id": "99530c10-97d2-423c-8aa5-7e40613e1948",
   "metadata": {},
   "outputs": [
    {
     "name": "stdout",
     "output_type": "stream",
     "text": [
      "               close           high            low           open  \\\n",
      "count  180090.000000  180090.000000  180090.000000  180090.000000   \n",
      "mean     1915.918481    1922.731162    1908.317606    1915.748724   \n",
      "std      9952.765801    9988.252212    9913.338937    9952.016079   \n",
      "min         0.000012       0.000012       0.000012       0.000012   \n",
      "25%         0.033110       0.033320       0.032933       0.033110   \n",
      "50%         0.459200       0.461700       0.456700       0.459250   \n",
      "75%        22.470000      22.620000      22.310000      22.470000   \n",
      "max     73577.350000   73777.000000   73215.140000   73577.350000   \n",
      "\n",
      "         volumefrom      volumeto  conversionSymbol  \n",
      "count  1.800900e+05  1.800900e+05               0.0  \n",
      "mean   1.827030e+06  5.348566e+06               NaN  \n",
      "std    6.836082e+06  2.560899e+07               NaN  \n",
      "min    0.000000e+00  0.000000e+00               NaN  \n",
      "25%    6.322625e+02  3.673500e+01               NaN  \n",
      "50%    2.838942e+04  1.251438e+05               NaN  \n",
      "75%    7.356512e+05  8.130777e+05               NaN  \n",
      "max    5.140477e+08  1.433206e+09               NaN  \n"
     ]
    }
   ],
   "source": [
    "# Summary statistics for numerical columns\n",
    "print(df.describe())"
   ]
  },
  {
   "cell_type": "code",
   "execution_count": 7,
   "id": "57d461b9-cf9d-46db-ba33-1a9cefb4830b",
   "metadata": {},
   "outputs": [
    {
     "name": "stdout",
     "output_type": "stream",
     "text": [
      "time                     0\n",
      "close                    0\n",
      "high                     0\n",
      "low                      0\n",
      "open                     0\n",
      "volumefrom               0\n",
      "volumeto                 0\n",
      "conversionType           0\n",
      "conversionSymbol    180090\n",
      "coin                     0\n",
      "exchange                 0\n",
      "dtype: int64\n"
     ]
    }
   ],
   "source": [
    "# Check for missing values\n",
    "print(df.isnull().sum())"
   ]
  },
  {
   "cell_type": "code",
   "execution_count": 8,
   "id": "4cdb3bc1-d93c-47ac-b0e5-29d58f44393b",
   "metadata": {},
   "outputs": [],
   "source": [
    "df1 = df.drop(df.columns[[7, 8, 9,10]], axis=1)"
   ]
  },
  {
   "cell_type": "code",
   "execution_count": 9,
   "id": "0522d0da-a7ae-44d5-a0d5-8bc3fb244e5d",
   "metadata": {},
   "outputs": [],
   "source": [
    "# Convert time to datetime format\n",
    "df1['time'] = pd.to_datetime(df1['time'])"
   ]
  },
  {
   "cell_type": "code",
   "execution_count": 10,
   "id": "799fceb8-4ea2-4bd5-bbd0-53fc22ec0fc9",
   "metadata": {},
   "outputs": [
    {
     "data": {
      "text/html": [
       "<div>\n",
       "<style scoped>\n",
       "    .dataframe tbody tr th:only-of-type {\n",
       "        vertical-align: middle;\n",
       "    }\n",
       "\n",
       "    .dataframe tbody tr th {\n",
       "        vertical-align: top;\n",
       "    }\n",
       "\n",
       "    .dataframe thead th {\n",
       "        text-align: right;\n",
       "    }\n",
       "</style>\n",
       "<table border=\"1\" class=\"dataframe\">\n",
       "  <thead>\n",
       "    <tr style=\"text-align: right;\">\n",
       "      <th></th>\n",
       "      <th>time</th>\n",
       "      <th>close</th>\n",
       "      <th>high</th>\n",
       "      <th>low</th>\n",
       "      <th>open</th>\n",
       "      <th>volumefrom</th>\n",
       "      <th>volumeto</th>\n",
       "    </tr>\n",
       "  </thead>\n",
       "  <tbody>\n",
       "    <tr>\n",
       "      <th>0</th>\n",
       "      <td>2024-04-08 16:00:00</td>\n",
       "      <td>0.6112</td>\n",
       "      <td>0.6115</td>\n",
       "      <td>0.6062</td>\n",
       "      <td>0.6074</td>\n",
       "      <td>4825802.1</td>\n",
       "      <td>2942962.56</td>\n",
       "    </tr>\n",
       "    <tr>\n",
       "      <th>1</th>\n",
       "      <td>2024-04-08 17:00:00</td>\n",
       "      <td>0.6126</td>\n",
       "      <td>0.6138</td>\n",
       "      <td>0.6087</td>\n",
       "      <td>0.6112</td>\n",
       "      <td>3482941.5</td>\n",
       "      <td>2128869.38</td>\n",
       "    </tr>\n",
       "    <tr>\n",
       "      <th>2</th>\n",
       "      <td>2024-04-08 18:00:00</td>\n",
       "      <td>0.6129</td>\n",
       "      <td>0.6144</td>\n",
       "      <td>0.6115</td>\n",
       "      <td>0.6126</td>\n",
       "      <td>3454875.1</td>\n",
       "      <td>2118343.33</td>\n",
       "    </tr>\n",
       "    <tr>\n",
       "      <th>3</th>\n",
       "      <td>2024-04-08 19:00:00</td>\n",
       "      <td>0.6148</td>\n",
       "      <td>0.6151</td>\n",
       "      <td>0.6126</td>\n",
       "      <td>0.6129</td>\n",
       "      <td>3470461.3</td>\n",
       "      <td>2131618.81</td>\n",
       "    </tr>\n",
       "    <tr>\n",
       "      <th>4</th>\n",
       "      <td>2024-04-08 20:00:00</td>\n",
       "      <td>0.6142</td>\n",
       "      <td>0.6152</td>\n",
       "      <td>0.6120</td>\n",
       "      <td>0.6148</td>\n",
       "      <td>2958147.2</td>\n",
       "      <td>1815447.80</td>\n",
       "    </tr>\n",
       "  </tbody>\n",
       "</table>\n",
       "</div>"
      ],
      "text/plain": [
       "                 time   close    high     low    open  volumefrom    volumeto\n",
       "0 2024-04-08 16:00:00  0.6112  0.6115  0.6062  0.6074   4825802.1  2942962.56\n",
       "1 2024-04-08 17:00:00  0.6126  0.6138  0.6087  0.6112   3482941.5  2128869.38\n",
       "2 2024-04-08 18:00:00  0.6129  0.6144  0.6115  0.6126   3454875.1  2118343.33\n",
       "3 2024-04-08 19:00:00  0.6148  0.6151  0.6126  0.6129   3470461.3  2131618.81\n",
       "4 2024-04-08 20:00:00  0.6142  0.6152  0.6120  0.6148   2958147.2  1815447.80"
      ]
     },
     "execution_count": 10,
     "metadata": {},
     "output_type": "execute_result"
    }
   ],
   "source": [
    "df1.head()"
   ]
  },
  {
   "cell_type": "markdown",
   "id": "bcc38066-f976-4550-980d-990ef6ee2dfd",
   "metadata": {},
   "source": [
    "## EXPLORATORY DATA ANALYSIS"
   ]
  },
  {
   "cell_type": "code",
   "execution_count": null,
   "id": "8c1b8d8c-73bf-49fd-9516-d1b45ad8914d",
   "metadata": {},
   "outputs": [],
   "source": []
  },
  {
   "cell_type": "code",
   "execution_count": null,
   "id": "68879d2b-d823-42a3-b66c-eb3f7a77ee04",
   "metadata": {},
   "outputs": [],
   "source": []
  },
  {
   "cell_type": "markdown",
   "id": "00466ee0-944a-4b2c-820c-d37408f3ea1d",
   "metadata": {},
   "source": [
    "### DATA PREPROCESSING "
   ]
  },
  {
   "cell_type": "code",
   "execution_count": 11,
   "id": "2eba0f68-6bae-4e09-922a-4c012547e8c1",
   "metadata": {},
   "outputs": [],
   "source": [
    "#Importing tools for preprocessing before machine learning.\n",
    "from sklearn.preprocessing import StandardScaler, MinMaxScaler # Converts big data into chunks that can be handled easily by the machine i.e standarding \n",
    "#the data\n",
    "from sklearn.model_selection import train_test_split #Splits the data into 3;train,test and validation sets."
   ]
  },
  {
   "cell_type": "markdown",
   "id": "a870c594-5253-487d-8cfa-5e4704d1e5e4",
   "metadata": {},
   "source": [
    "##### FEATURE ENGINEERING"
   ]
  },
  {
   "cell_type": "markdown",
   "id": "f71df90c-fcab-420e-ab8e-052904d31507",
   "metadata": {},
   "source": [
    "# Additional Information Generated from the Dataset\n",
    "\n",
    "- **Price Change:** Difference between close and open.\n",
    "\n",
    "- **Hourly Return:** Percentage change in price from the previous hour.\n",
    "\n",
    "- **Volatility:** Difference between high and low.\n",
    "\n",
    "- **Volume Ratio:** Ratio of `volume_to` to `volume_from`.\n"
   ]
  },
  {
   "cell_type": "code",
   "execution_count": 12,
   "id": "999ccd8b-ef0c-404c-8d14-26da6bebc118",
   "metadata": {},
   "outputs": [],
   "source": [
    "# Price Change\n",
    "df1['price_change'] = df1['close'] - df1['open']\n",
    "\n",
    "# Hourly Return\n",
    "df1['hourly_return'] = df1['close'].pct_change()\n",
    "\n",
    "# Volatility\n",
    "df1['volatility'] = df1['high'] - df1['low']\n",
    "\n",
    "# Volume Ratio\n",
    "df1['volume_ratio'] = df1['volumeto'] / df1['volumefrom']\n",
    "\n",
    "# Drop the first row since pct_change() will result in NaN for the first row\n",
    "df1 = df1.dropna()"
   ]
  },
  {
   "cell_type": "code",
   "execution_count": 13,
   "id": "fc22488c-28bf-4b6c-857d-225e66b9fd6e",
   "metadata": {},
   "outputs": [
    {
     "data": {
      "text/html": [
       "<div>\n",
       "<style scoped>\n",
       "    .dataframe tbody tr th:only-of-type {\n",
       "        vertical-align: middle;\n",
       "    }\n",
       "\n",
       "    .dataframe tbody tr th {\n",
       "        vertical-align: top;\n",
       "    }\n",
       "\n",
       "    .dataframe thead th {\n",
       "        text-align: right;\n",
       "    }\n",
       "</style>\n",
       "<table border=\"1\" class=\"dataframe\">\n",
       "  <thead>\n",
       "    <tr style=\"text-align: right;\">\n",
       "      <th></th>\n",
       "      <th>time</th>\n",
       "      <th>close</th>\n",
       "      <th>high</th>\n",
       "      <th>low</th>\n",
       "      <th>open</th>\n",
       "      <th>volumefrom</th>\n",
       "      <th>volumeto</th>\n",
       "      <th>price_change</th>\n",
       "      <th>hourly_return</th>\n",
       "      <th>volatility</th>\n",
       "      <th>volume_ratio</th>\n",
       "    </tr>\n",
       "  </thead>\n",
       "  <tbody>\n",
       "    <tr>\n",
       "      <th>1</th>\n",
       "      <td>2024-04-08 17:00:00</td>\n",
       "      <td>0.6126</td>\n",
       "      <td>0.6138</td>\n",
       "      <td>0.6087</td>\n",
       "      <td>0.6112</td>\n",
       "      <td>3482941.5</td>\n",
       "      <td>2128869.38</td>\n",
       "      <td>0.0014</td>\n",
       "      <td>0.002291</td>\n",
       "      <td>0.0051</td>\n",
       "      <td>0.611227</td>\n",
       "    </tr>\n",
       "    <tr>\n",
       "      <th>2</th>\n",
       "      <td>2024-04-08 18:00:00</td>\n",
       "      <td>0.6129</td>\n",
       "      <td>0.6144</td>\n",
       "      <td>0.6115</td>\n",
       "      <td>0.6126</td>\n",
       "      <td>3454875.1</td>\n",
       "      <td>2118343.33</td>\n",
       "      <td>0.0003</td>\n",
       "      <td>0.000490</td>\n",
       "      <td>0.0029</td>\n",
       "      <td>0.613146</td>\n",
       "    </tr>\n",
       "    <tr>\n",
       "      <th>3</th>\n",
       "      <td>2024-04-08 19:00:00</td>\n",
       "      <td>0.6148</td>\n",
       "      <td>0.6151</td>\n",
       "      <td>0.6126</td>\n",
       "      <td>0.6129</td>\n",
       "      <td>3470461.3</td>\n",
       "      <td>2131618.81</td>\n",
       "      <td>0.0019</td>\n",
       "      <td>0.003100</td>\n",
       "      <td>0.0025</td>\n",
       "      <td>0.614218</td>\n",
       "    </tr>\n",
       "    <tr>\n",
       "      <th>4</th>\n",
       "      <td>2024-04-08 20:00:00</td>\n",
       "      <td>0.6142</td>\n",
       "      <td>0.6152</td>\n",
       "      <td>0.6120</td>\n",
       "      <td>0.6148</td>\n",
       "      <td>2958147.2</td>\n",
       "      <td>1815447.80</td>\n",
       "      <td>-0.0006</td>\n",
       "      <td>-0.000976</td>\n",
       "      <td>0.0032</td>\n",
       "      <td>0.613711</td>\n",
       "    </tr>\n",
       "    <tr>\n",
       "      <th>5</th>\n",
       "      <td>2024-04-08 21:00:00</td>\n",
       "      <td>0.6153</td>\n",
       "      <td>0.6166</td>\n",
       "      <td>0.6133</td>\n",
       "      <td>0.6142</td>\n",
       "      <td>2180296.6</td>\n",
       "      <td>1340691.25</td>\n",
       "      <td>0.0011</td>\n",
       "      <td>0.001791</td>\n",
       "      <td>0.0033</td>\n",
       "      <td>0.614912</td>\n",
       "    </tr>\n",
       "  </tbody>\n",
       "</table>\n",
       "</div>"
      ],
      "text/plain": [
       "                 time   close    high     low    open  volumefrom    volumeto  \\\n",
       "1 2024-04-08 17:00:00  0.6126  0.6138  0.6087  0.6112   3482941.5  2128869.38   \n",
       "2 2024-04-08 18:00:00  0.6129  0.6144  0.6115  0.6126   3454875.1  2118343.33   \n",
       "3 2024-04-08 19:00:00  0.6148  0.6151  0.6126  0.6129   3470461.3  2131618.81   \n",
       "4 2024-04-08 20:00:00  0.6142  0.6152  0.6120  0.6148   2958147.2  1815447.80   \n",
       "5 2024-04-08 21:00:00  0.6153  0.6166  0.6133  0.6142   2180296.6  1340691.25   \n",
       "\n",
       "   price_change  hourly_return  volatility  volume_ratio  \n",
       "1        0.0014       0.002291      0.0051      0.611227  \n",
       "2        0.0003       0.000490      0.0029      0.613146  \n",
       "3        0.0019       0.003100      0.0025      0.614218  \n",
       "4       -0.0006      -0.000976      0.0032      0.613711  \n",
       "5        0.0011       0.001791      0.0033      0.614912  "
      ]
     },
     "execution_count": 13,
     "metadata": {},
     "output_type": "execute_result"
    }
   ],
   "source": [
    "df1.head()"
   ]
  },
  {
   "cell_type": "code",
   "execution_count": 14,
   "id": "025f30e7-433e-4ca8-a839-373a7d1bccbe",
   "metadata": {},
   "outputs": [],
   "source": [
    "from sklearn.linear_model import LogisticRegression\n",
    "from sklearn.model_selection import GridSearchCV, train_test_split\n",
    "from sklearn.metrics import classification_report, accuracy_score\n",
    "from sklearn.metrics import accuracy_score, classification_report, roc_auc_score, roc_curve, confusion_matrix"
   ]
  },
  {
   "cell_type": "code",
   "execution_count": 15,
   "id": "49cb8e6a-721b-4882-a254-510e0b9c0959",
   "metadata": {},
   "outputs": [],
   "source": [
    "# Loading the dataset and sorting using the timeline\n",
    "df1 = df1.sort_values([\"time\"])  "
   ]
  },
  {
   "cell_type": "code",
   "execution_count": 16,
   "id": "793ba4e3-e2aa-479e-b985-31bbb5c52b83",
   "metadata": {},
   "outputs": [],
   "source": [
    "# Computing the future return (2-hour ahead return)\n",
    "df1[\"future_return\"] = df1[\"hourly_return\"].shift(-2)"
   ]
  },
  {
   "cell_type": "code",
   "execution_count": 17,
   "id": "6cee190e-522b-400d-8045-ba20910ca139",
   "metadata": {},
   "outputs": [
    {
     "data": {
      "text/html": [
       "<div>\n",
       "<style scoped>\n",
       "    .dataframe tbody tr th:only-of-type {\n",
       "        vertical-align: middle;\n",
       "    }\n",
       "\n",
       "    .dataframe tbody tr th {\n",
       "        vertical-align: top;\n",
       "    }\n",
       "\n",
       "    .dataframe thead th {\n",
       "        text-align: right;\n",
       "    }\n",
       "</style>\n",
       "<table border=\"1\" class=\"dataframe\">\n",
       "  <thead>\n",
       "    <tr style=\"text-align: right;\">\n",
       "      <th></th>\n",
       "      <th>time</th>\n",
       "      <th>close</th>\n",
       "      <th>high</th>\n",
       "      <th>low</th>\n",
       "      <th>open</th>\n",
       "      <th>volumefrom</th>\n",
       "      <th>volumeto</th>\n",
       "      <th>price_change</th>\n",
       "      <th>hourly_return</th>\n",
       "      <th>volatility</th>\n",
       "      <th>volume_ratio</th>\n",
       "      <th>future_return</th>\n",
       "    </tr>\n",
       "  </thead>\n",
       "  <tbody>\n",
       "    <tr>\n",
       "      <th>58029</th>\n",
       "      <td>2023-10-24 22:00:00</td>\n",
       "      <td>16.57000</td>\n",
       "      <td>16.58000</td>\n",
       "      <td>16.43000</td>\n",
       "      <td>16.48000</td>\n",
       "      <td>17881.02</td>\n",
       "      <td>295320.23</td>\n",
       "      <td>0.09000</td>\n",
       "      <td>-0.529929</td>\n",
       "      <td>0.15000</td>\n",
       "      <td>16.515849</td>\n",
       "      <td>-0.628743</td>\n",
       "    </tr>\n",
       "    <tr>\n",
       "      <th>106053</th>\n",
       "      <td>2023-10-24 22:00:00</td>\n",
       "      <td>2.47200</td>\n",
       "      <td>2.47600</td>\n",
       "      <td>2.44200</td>\n",
       "      <td>2.45400</td>\n",
       "      <td>20257.50</td>\n",
       "      <td>49809.76</td>\n",
       "      <td>0.01800</td>\n",
       "      <td>-0.507570</td>\n",
       "      <td>0.03400</td>\n",
       "      <td>2.458831</td>\n",
       "      <td>-0.505786</td>\n",
       "    </tr>\n",
       "    <tr>\n",
       "      <th>10005</th>\n",
       "      <td>2023-10-24 22:00:00</td>\n",
       "      <td>252.90000</td>\n",
       "      <td>253.00000</td>\n",
       "      <td>249.70000</td>\n",
       "      <td>251.20000</td>\n",
       "      <td>2837.94</td>\n",
       "      <td>713116.26</td>\n",
       "      <td>1.70000</td>\n",
       "      <td>-0.628743</td>\n",
       "      <td>3.30000</td>\n",
       "      <td>251.279541</td>\n",
       "      <td>-0.452459</td>\n",
       "    </tr>\n",
       "    <tr>\n",
       "      <th>64032</th>\n",
       "      <td>2023-10-24 22:00:00</td>\n",
       "      <td>1793.60000</td>\n",
       "      <td>1794.00000</td>\n",
       "      <td>1778.74000</td>\n",
       "      <td>1786.81000</td>\n",
       "      <td>10571.51</td>\n",
       "      <td>18893539.90</td>\n",
       "      <td>6.79000</td>\n",
       "      <td>-0.505786</td>\n",
       "      <td>15.26000</td>\n",
       "      <td>1787.212981</td>\n",
       "      <td>-0.437610</td>\n",
       "    </tr>\n",
       "    <tr>\n",
       "      <th>148074</th>\n",
       "      <td>2023-10-24 22:00:00</td>\n",
       "      <td>0.02839</td>\n",
       "      <td>0.02847</td>\n",
       "      <td>0.02819</td>\n",
       "      <td>0.02821</td>\n",
       "      <td>720486.00</td>\n",
       "      <td>20380.13</td>\n",
       "      <td>0.00018</td>\n",
       "      <td>-0.452459</td>\n",
       "      <td>0.00028</td>\n",
       "      <td>0.028287</td>\n",
       "      <td>-0.483527</td>\n",
       "    </tr>\n",
       "  </tbody>\n",
       "</table>\n",
       "</div>"
      ],
      "text/plain": [
       "                      time       close        high         low        open  \\\n",
       "58029  2023-10-24 22:00:00    16.57000    16.58000    16.43000    16.48000   \n",
       "106053 2023-10-24 22:00:00     2.47200     2.47600     2.44200     2.45400   \n",
       "10005  2023-10-24 22:00:00   252.90000   253.00000   249.70000   251.20000   \n",
       "64032  2023-10-24 22:00:00  1793.60000  1794.00000  1778.74000  1786.81000   \n",
       "148074 2023-10-24 22:00:00     0.02839     0.02847     0.02819     0.02821   \n",
       "\n",
       "        volumefrom     volumeto  price_change  hourly_return  volatility  \\\n",
       "58029     17881.02    295320.23       0.09000      -0.529929     0.15000   \n",
       "106053    20257.50     49809.76       0.01800      -0.507570     0.03400   \n",
       "10005      2837.94    713116.26       1.70000      -0.628743     3.30000   \n",
       "64032     10571.51  18893539.90       6.79000      -0.505786    15.26000   \n",
       "148074   720486.00     20380.13       0.00018      -0.452459     0.00028   \n",
       "\n",
       "        volume_ratio  future_return  \n",
       "58029      16.515849      -0.628743  \n",
       "106053      2.458831      -0.505786  \n",
       "10005     251.279541      -0.452459  \n",
       "64032    1787.212981      -0.437610  \n",
       "148074      0.028287      -0.483527  "
      ]
     },
     "execution_count": 17,
     "metadata": {},
     "output_type": "execute_result"
    }
   ],
   "source": [
    "df1.head()"
   ]
  },
  {
   "cell_type": "code",
   "execution_count": 18,
   "id": "abcfcfa4-dda8-4a39-a7f1-60ca5e25bad3",
   "metadata": {},
   "outputs": [],
   "source": [
    "# Computing the cross-sectional median return across all timestamps\n",
    "df1[\"median_return\"] = df1.groupby(\"time\")[\"future_return\"].transform(\"median\")"
   ]
  },
  {
   "cell_type": "code",
   "execution_count": 19,
   "id": "545939f9-9c7e-4f78-b255-a585d6e3e5ee",
   "metadata": {},
   "outputs": [
    {
     "data": {
      "text/html": [
       "<div>\n",
       "<style scoped>\n",
       "    .dataframe tbody tr th:only-of-type {\n",
       "        vertical-align: middle;\n",
       "    }\n",
       "\n",
       "    .dataframe tbody tr th {\n",
       "        vertical-align: top;\n",
       "    }\n",
       "\n",
       "    .dataframe thead th {\n",
       "        text-align: right;\n",
       "    }\n",
       "</style>\n",
       "<table border=\"1\" class=\"dataframe\">\n",
       "  <thead>\n",
       "    <tr style=\"text-align: right;\">\n",
       "      <th></th>\n",
       "      <th>time</th>\n",
       "      <th>close</th>\n",
       "      <th>high</th>\n",
       "      <th>low</th>\n",
       "      <th>open</th>\n",
       "      <th>volumefrom</th>\n",
       "      <th>volumeto</th>\n",
       "      <th>price_change</th>\n",
       "      <th>hourly_return</th>\n",
       "      <th>volatility</th>\n",
       "      <th>volume_ratio</th>\n",
       "      <th>future_return</th>\n",
       "      <th>median_return</th>\n",
       "    </tr>\n",
       "  </thead>\n",
       "  <tbody>\n",
       "    <tr>\n",
       "      <th>58029</th>\n",
       "      <td>2023-10-24 22:00:00</td>\n",
       "      <td>16.57000</td>\n",
       "      <td>16.58000</td>\n",
       "      <td>16.43000</td>\n",
       "      <td>16.48000</td>\n",
       "      <td>17881.02</td>\n",
       "      <td>295320.23</td>\n",
       "      <td>0.09000</td>\n",
       "      <td>-0.529929</td>\n",
       "      <td>0.15000</td>\n",
       "      <td>16.515849</td>\n",
       "      <td>-0.628743</td>\n",
       "      <td>-0.443129</td>\n",
       "    </tr>\n",
       "    <tr>\n",
       "      <th>106053</th>\n",
       "      <td>2023-10-24 22:00:00</td>\n",
       "      <td>2.47200</td>\n",
       "      <td>2.47600</td>\n",
       "      <td>2.44200</td>\n",
       "      <td>2.45400</td>\n",
       "      <td>20257.50</td>\n",
       "      <td>49809.76</td>\n",
       "      <td>0.01800</td>\n",
       "      <td>-0.507570</td>\n",
       "      <td>0.03400</td>\n",
       "      <td>2.458831</td>\n",
       "      <td>-0.505786</td>\n",
       "      <td>-0.443129</td>\n",
       "    </tr>\n",
       "    <tr>\n",
       "      <th>10005</th>\n",
       "      <td>2023-10-24 22:00:00</td>\n",
       "      <td>252.90000</td>\n",
       "      <td>253.00000</td>\n",
       "      <td>249.70000</td>\n",
       "      <td>251.20000</td>\n",
       "      <td>2837.94</td>\n",
       "      <td>713116.26</td>\n",
       "      <td>1.70000</td>\n",
       "      <td>-0.628743</td>\n",
       "      <td>3.30000</td>\n",
       "      <td>251.279541</td>\n",
       "      <td>-0.452459</td>\n",
       "      <td>-0.443129</td>\n",
       "    </tr>\n",
       "    <tr>\n",
       "      <th>64032</th>\n",
       "      <td>2023-10-24 22:00:00</td>\n",
       "      <td>1793.60000</td>\n",
       "      <td>1794.00000</td>\n",
       "      <td>1778.74000</td>\n",
       "      <td>1786.81000</td>\n",
       "      <td>10571.51</td>\n",
       "      <td>18893539.90</td>\n",
       "      <td>6.79000</td>\n",
       "      <td>-0.505786</td>\n",
       "      <td>15.26000</td>\n",
       "      <td>1787.212981</td>\n",
       "      <td>-0.437610</td>\n",
       "      <td>-0.443129</td>\n",
       "    </tr>\n",
       "    <tr>\n",
       "      <th>148074</th>\n",
       "      <td>2023-10-24 22:00:00</td>\n",
       "      <td>0.02839</td>\n",
       "      <td>0.02847</td>\n",
       "      <td>0.02819</td>\n",
       "      <td>0.02821</td>\n",
       "      <td>720486.00</td>\n",
       "      <td>20380.13</td>\n",
       "      <td>0.00018</td>\n",
       "      <td>-0.452459</td>\n",
       "      <td>0.00028</td>\n",
       "      <td>0.028287</td>\n",
       "      <td>-0.483527</td>\n",
       "      <td>-0.443129</td>\n",
       "    </tr>\n",
       "  </tbody>\n",
       "</table>\n",
       "</div>"
      ],
      "text/plain": [
       "                      time       close        high         low        open  \\\n",
       "58029  2023-10-24 22:00:00    16.57000    16.58000    16.43000    16.48000   \n",
       "106053 2023-10-24 22:00:00     2.47200     2.47600     2.44200     2.45400   \n",
       "10005  2023-10-24 22:00:00   252.90000   253.00000   249.70000   251.20000   \n",
       "64032  2023-10-24 22:00:00  1793.60000  1794.00000  1778.74000  1786.81000   \n",
       "148074 2023-10-24 22:00:00     0.02839     0.02847     0.02819     0.02821   \n",
       "\n",
       "        volumefrom     volumeto  price_change  hourly_return  volatility  \\\n",
       "58029     17881.02    295320.23       0.09000      -0.529929     0.15000   \n",
       "106053    20257.50     49809.76       0.01800      -0.507570     0.03400   \n",
       "10005      2837.94    713116.26       1.70000      -0.628743     3.30000   \n",
       "64032     10571.51  18893539.90       6.79000      -0.505786    15.26000   \n",
       "148074   720486.00     20380.13       0.00018      -0.452459     0.00028   \n",
       "\n",
       "        volume_ratio  future_return  median_return  \n",
       "58029      16.515849      -0.628743      -0.443129  \n",
       "106053      2.458831      -0.505786      -0.443129  \n",
       "10005     251.279541      -0.452459      -0.443129  \n",
       "64032    1787.212981      -0.437610      -0.443129  \n",
       "148074      0.028287      -0.483527      -0.443129  "
      ]
     },
     "execution_count": 19,
     "metadata": {},
     "output_type": "execute_result"
    }
   ],
   "source": [
    "df1.head()"
   ]
  },
  {
   "cell_type": "code",
   "execution_count": 20,
   "id": "d58681de-ca54-4d43-95a1-cbe99eb3cda8",
   "metadata": {},
   "outputs": [],
   "source": [
    "# We then define the binary target variable which will use to predict if the coin has outperfomed the crossectional median or not\n",
    "df1[\"target\"] = (df1[\"future_return\"] >= df1[\"median_return\"]).astype(int)"
   ]
  },
  {
   "cell_type": "code",
   "execution_count": 21,
   "id": "7d562f52-b9b9-431a-ae64-5e8e0723a24d",
   "metadata": {},
   "outputs": [],
   "source": [
    "#Dropping any  missing values as a result of shifting the entire dataset\n",
    "df1.dropna(inplace=True)"
   ]
  },
  {
   "cell_type": "code",
   "execution_count": 22,
   "id": "31f4da25-39a6-4034-bb5c-18a039b0b838",
   "metadata": {},
   "outputs": [],
   "source": [
    "# Finally we define the features column our target variable and the y variable\n",
    "feature_columns = [\"hourly_return\", \"volatility\", \"price_change\", \"volume_ratio\"]\n",
    "X = df1[feature_columns]  \n",
    "y = df1[\"target\"]"
   ]
  },
  {
   "cell_type": "markdown",
   "id": "6f0c5b1a-5c85-4356-ab76-70fe0ba88dbd",
   "metadata": {},
   "source": [
    "##### SPLITTING THE DATASET INTO TRAINING AND TESTING "
   ]
  },
  {
   "cell_type": "code",
   "execution_count": 23,
   "id": "bd294533-6c50-4cf5-8c86-7a587d66ace0",
   "metadata": {},
   "outputs": [],
   "source": [
    "# Time-based train-test split (80% train, 20% test)-- this is safe to retain the chronological order  of the dataset\n",
    "split_index = int(len(df1) * 0.8)  # 80% for training\n",
    "\n",
    "X_train = df1.iloc[:split_index][feature_columns]\n",
    "y_train = df1.iloc[:split_index][\"target\"]\n",
    "\n",
    "X_test = df1.iloc[split_index:][feature_columns]\n",
    "y_test = df1.iloc[split_index:][\"target\"]\n"
   ]
  },
  {
   "cell_type": "code",
   "execution_count": 24,
   "id": "db1cb9ab-1925-4fb2-8700-69b127374f35",
   "metadata": {},
   "outputs": [],
   "source": [
    "# Standardizing the features to easily work with each of them\n",
    "scaler = StandardScaler()\n",
    "X_train_scaled = scaler.fit_transform(X_train)\n",
    "X_test_scaled = scaler.transform(X_test)"
   ]
  },
  {
   "cell_type": "markdown",
   "id": "a17d0b6b-c1dd-4f3c-b04c-f14facdcd842",
   "metadata": {},
   "source": [
    "##### DEFINING AND TRAINING THE MODEL"
   ]
  },
  {
   "cell_type": "code",
   "execution_count": 25,
   "id": "276bce66-7fe7-43cc-8a9c-a4b6917ef706",
   "metadata": {},
   "outputs": [],
   "source": [
    "# Step 9: Train the Logistic Regression model\n",
    "log_reg = LogisticRegression(penalty='l2', solver='lbfgs', max_iter=100)"
   ]
  },
  {
   "cell_type": "code",
   "execution_count": 26,
   "id": "7272b661-cb03-469e-9436-fcd8e90e2e17",
   "metadata": {},
   "outputs": [
    {
     "data": {
      "text/html": [
       "<style>#sk-container-id-1 {color: black;background-color: white;}#sk-container-id-1 pre{padding: 0;}#sk-container-id-1 div.sk-toggleable {background-color: white;}#sk-container-id-1 label.sk-toggleable__label {cursor: pointer;display: block;width: 100%;margin-bottom: 0;padding: 0.3em;box-sizing: border-box;text-align: center;}#sk-container-id-1 label.sk-toggleable__label-arrow:before {content: \"▸\";float: left;margin-right: 0.25em;color: #696969;}#sk-container-id-1 label.sk-toggleable__label-arrow:hover:before {color: black;}#sk-container-id-1 div.sk-estimator:hover label.sk-toggleable__label-arrow:before {color: black;}#sk-container-id-1 div.sk-toggleable__content {max-height: 0;max-width: 0;overflow: hidden;text-align: left;background-color: #f0f8ff;}#sk-container-id-1 div.sk-toggleable__content pre {margin: 0.2em;color: black;border-radius: 0.25em;background-color: #f0f8ff;}#sk-container-id-1 input.sk-toggleable__control:checked~div.sk-toggleable__content {max-height: 200px;max-width: 100%;overflow: auto;}#sk-container-id-1 input.sk-toggleable__control:checked~label.sk-toggleable__label-arrow:before {content: \"▾\";}#sk-container-id-1 div.sk-estimator input.sk-toggleable__control:checked~label.sk-toggleable__label {background-color: #d4ebff;}#sk-container-id-1 div.sk-label input.sk-toggleable__control:checked~label.sk-toggleable__label {background-color: #d4ebff;}#sk-container-id-1 input.sk-hidden--visually {border: 0;clip: rect(1px 1px 1px 1px);clip: rect(1px, 1px, 1px, 1px);height: 1px;margin: -1px;overflow: hidden;padding: 0;position: absolute;width: 1px;}#sk-container-id-1 div.sk-estimator {font-family: monospace;background-color: #f0f8ff;border: 1px dotted black;border-radius: 0.25em;box-sizing: border-box;margin-bottom: 0.5em;}#sk-container-id-1 div.sk-estimator:hover {background-color: #d4ebff;}#sk-container-id-1 div.sk-parallel-item::after {content: \"\";width: 100%;border-bottom: 1px solid gray;flex-grow: 1;}#sk-container-id-1 div.sk-label:hover label.sk-toggleable__label {background-color: #d4ebff;}#sk-container-id-1 div.sk-serial::before {content: \"\";position: absolute;border-left: 1px solid gray;box-sizing: border-box;top: 0;bottom: 0;left: 50%;z-index: 0;}#sk-container-id-1 div.sk-serial {display: flex;flex-direction: column;align-items: center;background-color: white;padding-right: 0.2em;padding-left: 0.2em;position: relative;}#sk-container-id-1 div.sk-item {position: relative;z-index: 1;}#sk-container-id-1 div.sk-parallel {display: flex;align-items: stretch;justify-content: center;background-color: white;position: relative;}#sk-container-id-1 div.sk-item::before, #sk-container-id-1 div.sk-parallel-item::before {content: \"\";position: absolute;border-left: 1px solid gray;box-sizing: border-box;top: 0;bottom: 0;left: 50%;z-index: -1;}#sk-container-id-1 div.sk-parallel-item {display: flex;flex-direction: column;z-index: 1;position: relative;background-color: white;}#sk-container-id-1 div.sk-parallel-item:first-child::after {align-self: flex-end;width: 50%;}#sk-container-id-1 div.sk-parallel-item:last-child::after {align-self: flex-start;width: 50%;}#sk-container-id-1 div.sk-parallel-item:only-child::after {width: 0;}#sk-container-id-1 div.sk-dashed-wrapped {border: 1px dashed gray;margin: 0 0.4em 0.5em 0.4em;box-sizing: border-box;padding-bottom: 0.4em;background-color: white;}#sk-container-id-1 div.sk-label label {font-family: monospace;font-weight: bold;display: inline-block;line-height: 1.2em;}#sk-container-id-1 div.sk-label-container {text-align: center;}#sk-container-id-1 div.sk-container {/* jupyter's `normalize.less` sets `[hidden] { display: none; }` but bootstrap.min.css set `[hidden] { display: none !important; }` so we also need the `!important` here to be able to override the default hidden behavior on the sphinx rendered scikit-learn.org. See: https://github.com/scikit-learn/scikit-learn/issues/21755 */display: inline-block !important;position: relative;}#sk-container-id-1 div.sk-text-repr-fallback {display: none;}</style><div id=\"sk-container-id-1\" class=\"sk-top-container\"><div class=\"sk-text-repr-fallback\"><pre>LogisticRegression()</pre><b>In a Jupyter environment, please rerun this cell to show the HTML representation or trust the notebook. <br />On GitHub, the HTML representation is unable to render, please try loading this page with nbviewer.org.</b></div><div class=\"sk-container\" hidden><div class=\"sk-item\"><div class=\"sk-estimator sk-toggleable\"><input class=\"sk-toggleable__control sk-hidden--visually\" id=\"sk-estimator-id-1\" type=\"checkbox\" checked><label for=\"sk-estimator-id-1\" class=\"sk-toggleable__label sk-toggleable__label-arrow\">LogisticRegression</label><div class=\"sk-toggleable__content\"><pre>LogisticRegression()</pre></div></div></div></div></div>"
      ],
      "text/plain": [
       "LogisticRegression()"
      ]
     },
     "execution_count": 26,
     "metadata": {},
     "output_type": "execute_result"
    }
   ],
   "source": [
    "log_reg.fit(X_train_scaled, y_train)"
   ]
  },
  {
   "cell_type": "code",
   "execution_count": 27,
   "id": "ed5e0d85-0cc7-48b0-bb03-177fb222826b",
   "metadata": {},
   "outputs": [
    {
     "data": {
      "text/plain": [
       "array([1, 1, 1, ..., 1, 1, 1])"
      ]
     },
     "execution_count": 27,
     "metadata": {},
     "output_type": "execute_result"
    }
   ],
   "source": [
    "# Step 10: Make predictions\n",
    "y_pred = log_reg.predict(X_test_scaled)\n",
    "y_pred"
   ]
  },
  {
   "cell_type": "code",
   "execution_count": 28,
   "id": "ce4c578f-641b-49f3-840f-99d988ea9889",
   "metadata": {},
   "outputs": [],
   "source": [
    "# Step 11: Evaluate performance\n",
    "accuracy = accuracy_score(y_test, y_pred)\n",
    "roc_auc = roc_auc_score(y_test, log_reg.predict_proba(X_test_scaled)[:, 1])\n"
   ]
  },
  {
   "cell_type": "code",
   "execution_count": 29,
   "id": "b8768503-8f84-42cf-aa55-639011357421",
   "metadata": {},
   "outputs": [
    {
     "data": {
      "text/plain": [
       "0.5108110075713453"
      ]
     },
     "execution_count": 29,
     "metadata": {},
     "output_type": "execute_result"
    }
   ],
   "source": [
    "accuracy"
   ]
  },
  {
   "cell_type": "code",
   "execution_count": 30,
   "id": "a6924c42-67f0-4102-925c-710d3be09f11",
   "metadata": {},
   "outputs": [
    {
     "data": {
      "text/plain": [
       "0.5018810062302148"
      ]
     },
     "execution_count": 30,
     "metadata": {},
     "output_type": "execute_result"
    }
   ],
   "source": [
    "roc_auc"
   ]
  },
  {
   "cell_type": "code",
   "execution_count": 31,
   "id": "86f17c1d-8b72-4183-bc79-f3f221711f50",
   "metadata": {},
   "outputs": [
    {
     "name": "stdout",
     "output_type": "stream",
     "text": [
      "Model Accuracy: 0.5108110075713453\n",
      "ROC AUC Score: 0.5018810062302148\n",
      "Classification Report:\n",
      "               precision    recall  f1-score   support\n",
      "\n",
      "           0       0.00      0.00      0.00     13439\n",
      "           1       0.51      1.00      0.68     14033\n",
      "\n",
      "    accuracy                           0.51     27472\n",
      "   macro avg       0.26      0.50      0.34     27472\n",
      "weighted avg       0.26      0.51      0.35     27472\n",
      "\n"
     ]
    },
    {
     "name": "stderr",
     "output_type": "stream",
     "text": [
      "C:\\Users\\Amell\\anaconda3\\Lib\\site-packages\\sklearn\\metrics\\_classification.py:1344: UndefinedMetricWarning: Precision and F-score are ill-defined and being set to 0.0 in labels with no predicted samples. Use `zero_division` parameter to control this behavior.\n",
      "  _warn_prf(average, modifier, msg_start, len(result))\n",
      "C:\\Users\\Amell\\anaconda3\\Lib\\site-packages\\sklearn\\metrics\\_classification.py:1344: UndefinedMetricWarning: Precision and F-score are ill-defined and being set to 0.0 in labels with no predicted samples. Use `zero_division` parameter to control this behavior.\n",
      "  _warn_prf(average, modifier, msg_start, len(result))\n",
      "C:\\Users\\Amell\\anaconda3\\Lib\\site-packages\\sklearn\\metrics\\_classification.py:1344: UndefinedMetricWarning: Precision and F-score are ill-defined and being set to 0.0 in labels with no predicted samples. Use `zero_division` parameter to control this behavior.\n",
      "  _warn_prf(average, modifier, msg_start, len(result))\n"
     ]
    }
   ],
   "source": [
    "print(\"Model Accuracy:\", accuracy)\n",
    "print(\"ROC AUC Score:\", roc_auc)\n",
    "print(\"Classification Report:\\n\", classification_report(y_test, y_pred))"
   ]
  },
  {
   "cell_type": "code",
   "execution_count": 32,
   "id": "dcca32a6-d625-49d7-bc53-e454043742c6",
   "metadata": {},
   "outputs": [
    {
     "data": {
      "image/png": "[encoded data removed]",
      "text/plain": [
       "<Figure size 1500x1000 with 2 Axes>"
      ]
     },
     "metadata": {},
     "output_type": "display_data"
    }
   ],
   "source": [
    "# Plotting the  Confusion Matrix\n",
    "plt.figure(figsize=(15, 10))\n",
    "sns.heatmap(confusion_matrix(y_test, y_pred), annot=True, fmt='d', cmap=\"Blues\", xticklabels=[\"No\", \"Yes\"], yticklabels=[\"No\", \"Yes\"])\n",
    "plt.xlabel(\"Predicted\")\n",
    "plt.ylabel(\"Actual\")\n",
    "plt.title(\"Confusion Matrix\")\n",
    "plt.show()\n"
   ]
  },
  {
   "cell_type": "code",
   "execution_count": 33,
   "id": "2ae36a64-5a7c-4662-bcd4-a61a3e658bae",
   "metadata": {},
   "outputs": [
    {
     "data": {
      "image/png": "[encoded data removed]",
      "text/plain": [
       "<Figure size 1500x1000 with 1 Axes>"
      ]
     },
     "metadata": {},
     "output_type": "display_data"
    }
   ],
   "source": [
    "# Plot Feature Importance (Logistic Regression Coefficients)\n",
    "plt.figure(figsize=(15, 10))  # Adjusted for full-page effect\n",
    "\n",
    "# Plot feature importance\n",
    "feature_importance = pd.Series(log_reg.coef_[0], index=feature_columns)\n",
    "feature_importance.sort_values().plot(kind=\"barh\", color=\"royalblue\")\n",
    "\n",
    "# Labels and title\n",
    "plt.xlabel(\"Coefficient Value\", fontsize=14)\n",
    "plt.ylabel(\"Feature\", fontsize=14)\n",
    "plt.title(\"Feature Importance in Logistic Regression\", fontsize=18)\n",
    "\n",
    "# Improve layout\n",
    "plt.xticks(fontsize=12)\n",
    "plt.yticks(fontsize=12)\n",
    "plt.grid(axis=\"x\", linestyle=\"--\", alpha=0.7)\n",
    "\n",
    "plt.show()"
   ]
  }
 ],
 "metadata": {
  "kernelspec": {
   "display_name": "Python 3 (ipykernel)",
   "language": "python",
   "name": "python3"
  },
  "language_info": {
   "codemirror_mode": {
    "name": "ipython",
    "version": 3
   },
   "file_extension": ".py",
   "mimetype": "text/x-python",
   "name": "python",
   "nbconvert_exporter": "python",
   "pygments_lexer": "ipython3",
   "version": "3.11.5"
  }
 },
 "nbformat": 4,
 "nbformat_minor": 5
}
